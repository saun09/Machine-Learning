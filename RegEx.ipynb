{
  "nbformat": 4,
  "nbformat_minor": 0,
  "metadata": {
    "colab": {
      "provenance": [],
      "authorship_tag": "ABX9TyP3n5pvHq7w8VFmObpZAX5r",
      "include_colab_link": true
    },
    "kernelspec": {
      "name": "python3",
      "display_name": "Python 3"
    },
    "language_info": {
      "name": "python"
    }
  },
  "cells": [
    {
      "cell_type": "markdown",
      "metadata": {
        "id": "view-in-github",
        "colab_type": "text"
      },
      "source": [
        "<a href=\"https://colab.research.google.com/github/saun09/Machine-Learning/blob/main/RegEx.ipynb\" target=\"_parent\"><img src=\"https://colab.research.google.com/assets/colab-badge.svg\" alt=\"Open In Colab\"/></a>"
      ]
    },
    {
      "cell_type": "code",
      "execution_count": null,
      "metadata": {
        "id": "zkBRXQDir4aJ"
      },
      "outputs": [],
      "source": [
        "import re"
      ]
    },
    {
      "cell_type": "code",
      "source": [
        "#using metacharacters\n",
        "txt=\" Hi , my name is Saundarya.\"\n",
        "#find all lower case characters in txt\n",
        "x=re.findall(\"[a-m]\", txt)\n",
        "print(x)"
      ],
      "metadata": {
        "colab": {
          "base_uri": "https://localhost:8080/"
        },
        "id": "9EPWl08QsX7l",
        "outputId": "ffce189d-6988-498d-9ed1-e42e2cb97553"
      },
      "execution_count": null,
      "outputs": [
        {
          "output_type": "stream",
          "name": "stdout",
          "text": [
            "['i', 'm', 'a', 'm', 'e', 'i', 'a', 'd', 'a', 'a']\n"
          ]
        }
      ]
    },
    {
      "cell_type": "code",
      "source": [
        "txt=\"birthdate 09 \"\n",
        "x=re.findall(\"\\d\", txt)\n",
        "print(x)"
      ],
      "metadata": {
        "colab": {
          "base_uri": "https://localhost:8080/"
        },
        "id": "T5mRiWGal6Gc",
        "outputId": "56544dd3-6f3e-44f8-8e8c-e056eeef2316"
      },
      "execution_count": null,
      "outputs": [
        {
          "output_type": "stream",
          "name": "stdout",
          "text": [
            "['0', '9']\n"
          ]
        }
      ]
    },
    {
      "cell_type": "code",
      "source": [
        "txt=\"hello\"\n",
        "x=re.findall(\"he..o\",txt)\n",
        "print(x)\n"
      ],
      "metadata": {
        "colab": {
          "base_uri": "https://localhost:8080/"
        },
        "id": "gn8Iktv6mBhb",
        "outputId": "4addf5c9-57f8-4425-bb19-306d028668ba"
      },
      "execution_count": null,
      "outputs": [
        {
          "output_type": "stream",
          "name": "stdout",
          "text": [
            "['hello']\n"
          ]
        }
      ]
    },
    {
      "cell_type": "code",
      "source": [
        "txt=\"Hello i am saun\"\n",
        "x=re.findall(\"^Hello\", txt)\n",
        "if x:\n",
        "  print(\"yes it starts with Hello\")\n",
        "else:\n",
        "  print(\"no\")"
      ],
      "metadata": {
        "colab": {
          "base_uri": "https://localhost:8080/"
        },
        "id": "Eb3YXXG6nk-T",
        "outputId": "f7139241-8074-484b-a9cd-ecffecdd2ce9"
      },
      "execution_count": null,
      "outputs": [
        {
          "output_type": "stream",
          "name": "stdout",
          "text": [
            "yes it starts with Hello\n"
          ]
        }
      ]
    },
    {
      "cell_type": "code",
      "source": [
        "txt=\"i am good. Hello\"\n",
        "x=re.findall(\"Hello$\", txt)\n",
        "if x:\n",
        "  print(\"yes it ends with Hello\")\n",
        "else:\n",
        "  print(\"no\")"
      ],
      "metadata": {
        "colab": {
          "base_uri": "https://localhost:8080/"
        },
        "id": "CPgdzcpxoP2R",
        "outputId": "806b7716-736d-482c-c39e-98f761aa2e2f"
      },
      "execution_count": null,
      "outputs": [
        {
          "output_type": "stream",
          "name": "stdout",
          "text": [
            "yes it ends with Hello\n"
          ]
        }
      ]
    },
    {
      "cell_type": "code",
      "source": [
        "txt=\"Hello Planet\"\n",
        "x=re.findall(\"He.*o\", txt)\n",
        "print(x)"
      ],
      "metadata": {
        "colab": {
          "base_uri": "https://localhost:8080/"
        },
        "id": "d6z-DFfoo1id",
        "outputId": "108a4d8f-1819-4d9a-8e86-dd18bc266c51"
      },
      "execution_count": null,
      "outputs": [
        {
          "output_type": "stream",
          "name": "stdout",
          "text": [
            "['Hello']\n"
          ]
        }
      ]
    },
    {
      "cell_type": "code",
      "source": [
        "txt=\"hello planet\"\n",
        "x=re.findall(\"he.+o\", txt)\n",
        "print(x)"
      ],
      "metadata": {
        "colab": {
          "base_uri": "https://localhost:8080/"
        },
        "id": "fKSsTYbKpLYh",
        "outputId": "a2f40d4f-c233-4a40-af37-7fff19ac0791"
      },
      "execution_count": null,
      "outputs": [
        {
          "output_type": "stream",
          "name": "stdout",
          "text": [
            "['hello']\n"
          ]
        }
      ]
    },
    {
      "cell_type": "code",
      "source": [
        "txt=\"hello planet\"\n",
        "x=re.findall(\"he.?o\", txt)\n",
        "print(x)"
      ],
      "metadata": {
        "colab": {
          "base_uri": "https://localhost:8080/"
        },
        "id": "Uo-I9G4Hpw4z",
        "outputId": "d94dc712-5236-488c-ad08-a30601f0250d"
      },
      "execution_count": null,
      "outputs": [
        {
          "output_type": "stream",
          "name": "stdout",
          "text": [
            "[]\n"
          ]
        }
      ]
    },
    {
      "cell_type": "code",
      "source": [
        "txt=\"hello planet\"\n",
        "x=re.findall(\"he.{2}o\", txt)\n",
        "print(x)"
      ],
      "metadata": {
        "colab": {
          "base_uri": "https://localhost:8080/"
        },
        "id": "fi0LEvUYqSDJ",
        "outputId": "62cde5d8-a6e7-4abd-89e3-72d2b3108612"
      },
      "execution_count": null,
      "outputs": [
        {
          "output_type": "stream",
          "name": "stdout",
          "text": [
            "['hello']\n"
          ]
        }
      ]
    },
    {
      "cell_type": "code",
      "source": [
        "txt=\"the rain falls here often\"\n",
        "x=re.findall(\"falls|stays\",txt)\n",
        "if x:\n",
        "  print(\"one match!\")\n",
        "else:\n",
        "  print(\"no match\")"
      ],
      "metadata": {
        "colab": {
          "base_uri": "https://localhost:8080/"
        },
        "id": "6mOuNQJ7r8A4",
        "outputId": "d9c0ebb8-2404-4cf6-bbf0-e3b3d16c6bc8"
      },
      "execution_count": null,
      "outputs": [
        {
          "output_type": "stream",
          "name": "stdout",
          "text": [
            "one match!\n"
          ]
        }
      ]
    },
    {
      "cell_type": "code",
      "source": [
        "txt=\"the rain falls here often\"\n",
        "x=re.findall(\"\\Athe\",txt)\n",
        "if x:\n",
        "  print(\"one match!\")\n",
        "else:\n",
        "  print(\"no match\")"
      ],
      "metadata": {
        "colab": {
          "base_uri": "https://localhost:8080/"
        },
        "id": "42kq7jyNsfiY",
        "outputId": "da795fd7-5320-4e32-9e4a-43fc43224b71"
      },
      "execution_count": null,
      "outputs": [
        {
          "output_type": "stream",
          "name": "stdout",
          "text": [
            "one match!\n"
          ]
        }
      ]
    },
    {
      "cell_type": "code",
      "source": [
        "txt=\"the rain falls here often\"\n",
        "x=re.findall(r\"\\bain\",txt)\n",
        "if x:\n",
        "  print(\"one match!\")\n",
        "else:\n",
        "  print(\"no match\")"
      ],
      "metadata": {
        "colab": {
          "base_uri": "https://localhost:8080/"
        },
        "id": "ur8bq8kPtIvV",
        "outputId": "4585487f-4eec-46ad-dcf8-69f1bed23517"
      },
      "execution_count": null,
      "outputs": [
        {
          "output_type": "stream",
          "name": "stdout",
          "text": [
            "no match\n"
          ]
        }
      ]
    },
    {
      "cell_type": "code",
      "source": [
        "txt=\"the rain falls here often\"\n",
        "x=re.findall(r\"ain\\b\",txt)\n",
        "if x:\n",
        "  print(\"one match!\")\n",
        "else:\n",
        "  print(\"no match\")"
      ],
      "metadata": {
        "colab": {
          "base_uri": "https://localhost:8080/"
        },
        "id": "Y3NhncgAtNsF",
        "outputId": "2f9b7229-06c8-47c9-8d52-b78dac8089aa"
      },
      "execution_count": null,
      "outputs": [
        {
          "output_type": "stream",
          "name": "stdout",
          "text": [
            "one match!\n"
          ]
        }
      ]
    },
    {
      "cell_type": "code",
      "source": [
        "txt=\"rain in spain\"\n",
        "x=re.findall(r\"\\Bain\",txt)\n",
        "print(x)\n",
        "if x:\n",
        "  print(\"One match!\")\n",
        "else:\n",
        "  print(\"no match\")"
      ],
      "metadata": {
        "colab": {
          "base_uri": "https://localhost:8080/"
        },
        "id": "1iU3eYhCtyAN",
        "outputId": "9affa977-0405-4fe6-f004-0ef75f0a7476"
      },
      "execution_count": null,
      "outputs": [
        {
          "output_type": "stream",
          "name": "stdout",
          "text": [
            "['ain', 'ain']\n",
            "One match!\n"
          ]
        }
      ]
    },
    {
      "cell_type": "code",
      "source": [
        "txt=\"rain in spain\"\n",
        "x=re.findall(r\"ain\\B\",txt)\n",
        "print(x)\n",
        "if x:\n",
        "  print(\"One match!\")\n",
        "else:\n",
        "  print(\"no match\")"
      ],
      "metadata": {
        "colab": {
          "base_uri": "https://localhost:8080/"
        },
        "id": "8ja0a3M8t9vL",
        "outputId": "70985e92-0733-42d1-c79b-e99fc5cea041"
      },
      "execution_count": null,
      "outputs": [
        {
          "output_type": "stream",
          "name": "stdout",
          "text": [
            "[]\n",
            "no match\n"
          ]
        }
      ]
    },
    {
      "cell_type": "code",
      "source": [
        "txt=\"it is 2 days away\"\n",
        "x=re.findall(\"\\d\",txt)\n",
        "print(x)\n",
        "if x:\n",
        "  print(\"one match!\")\n",
        "else:\n",
        "  print(\"no match\")"
      ],
      "metadata": {
        "colab": {
          "base_uri": "https://localhost:8080/"
        },
        "id": "RMGVYMs4uM-U",
        "outputId": "d1dbbf17-a8fb-41a1-894b-d5415cfba3be"
      },
      "execution_count": null,
      "outputs": [
        {
          "output_type": "stream",
          "name": "stdout",
          "text": [
            "['2']\n",
            "one match!\n"
          ]
        }
      ]
    },
    {
      "cell_type": "code",
      "source": [
        "txt=\"it is 2 days away\"\n",
        "x=re.findall(\"\\s\",txt)\n",
        "print(x)\n",
        "if x:\n",
        "  print(\" match!\")\n",
        "else:\n",
        "  print(\"no match\")"
      ],
      "metadata": {
        "colab": {
          "base_uri": "https://localhost:8080/"
        },
        "id": "DFgXhOJ7ukVc",
        "outputId": "5a6889e1-3ee2-41b6-9343-755fa0a92645"
      },
      "execution_count": null,
      "outputs": [
        {
          "output_type": "stream",
          "name": "stdout",
          "text": [
            "[' ', ' ', ' ', ' ']\n",
            " match!\n"
          ]
        }
      ]
    },
    {
      "cell_type": "code",
      "source": [
        "txt=\"it is 2 days away\"\n",
        "x=re.findall(\"\\d\",txt)\n",
        "print(x)\n",
        "if x:\n",
        "  print(\"one match!\")\n",
        "else:\n",
        "  print(\"no match\")"
      ],
      "metadata": {
        "id": "gUjNecGXvGuX"
      },
      "execution_count": null,
      "outputs": []
    },
    {
      "cell_type": "code",
      "source": [
        "txt=\"it is 2 days away\"\n",
        "x=re.findall(\"\\S\",txt)\n",
        "print(x)\n",
        "if x:\n",
        "  print(\" match!\")\n",
        "else:\n",
        "  print(\"no match\")"
      ],
      "metadata": {
        "colab": {
          "base_uri": "https://localhost:8080/"
        },
        "id": "c6ZAJjIeuRj6",
        "outputId": "9a058df6-a59e-4afd-be40-2426fd29c9a2"
      },
      "execution_count": null,
      "outputs": [
        {
          "output_type": "stream",
          "name": "stdout",
          "text": [
            "['i', 't', 'i', 's', '2', 'd', 'a', 'y', 's', 'a', 'w', 'a', 'y']\n",
            " match!\n"
          ]
        }
      ]
    },
    {
      "cell_type": "code",
      "source": [
        "txt=\"it is 2 days away\"\n",
        "x=re.findall(\"\\W\",txt)\n",
        "print(x)\n",
        "if x:\n",
        "  print(\" match!\")\n",
        "else:\n",
        "  print(\"no match\")"
      ],
      "metadata": {
        "colab": {
          "base_uri": "https://localhost:8080/"
        },
        "id": "7w8SN7kIu5ZN",
        "outputId": "af5c6ce8-c922-4db1-eaf4-1652b9bf331e"
      },
      "execution_count": null,
      "outputs": [
        {
          "output_type": "stream",
          "name": "stdout",
          "text": [
            "[' ', ' ', ' ', ' ']\n",
            " match!\n"
          ]
        }
      ]
    },
    {
      "cell_type": "code",
      "source": [
        "txt=\"it is 2 days away\"\n",
        "x=re.findall(\"away\\Z\",txt)\n",
        "print(x)\n",
        "if x:\n",
        "  print(\"one match!\")\n",
        "else:\n",
        "  print(\"no match\")"
      ],
      "metadata": {
        "id": "zx9Y6ah5vQuM",
        "outputId": "9b07103f-e9c9-44e3-f63e-09ad7eb01e27",
        "colab": {
          "base_uri": "https://localhost:8080/"
        }
      },
      "execution_count": null,
      "outputs": [
        {
          "output_type": "stream",
          "name": "stdout",
          "text": [
            "['away']\n",
            "one match!\n"
          ]
        }
      ]
    },
    {
      "cell_type": "code",
      "source": [
        "pip install nltk"
      ],
      "metadata": {
        "colab": {
          "base_uri": "https://localhost:8080/"
        },
        "id": "9kfEL3FmKTSt",
        "outputId": "681a9c11-09f4-4dfb-9e36-949acf06fa0b"
      },
      "execution_count": null,
      "outputs": [
        {
          "output_type": "stream",
          "name": "stdout",
          "text": [
            "Requirement already satisfied: nltk in /usr/local/lib/python3.10/dist-packages (3.8.1)\n",
            "Requirement already satisfied: click in /usr/local/lib/python3.10/dist-packages (from nltk) (8.1.7)\n",
            "Requirement already satisfied: joblib in /usr/local/lib/python3.10/dist-packages (from nltk) (1.4.2)\n",
            "Requirement already satisfied: regex>=2021.8.3 in /usr/local/lib/python3.10/dist-packages (from nltk) (2024.5.15)\n",
            "Requirement already satisfied: tqdm in /usr/local/lib/python3.10/dist-packages (from nltk) (4.66.4)\n"
          ]
        }
      ]
    },
    {
      "cell_type": "code",
      "source": [
        "import nltk\n",
        "nltk.download('stopwords')\n",
        "nltk.download('punkt')\n",
        "from nltk.corpus import stopwords\n",
        "stop_words=set(stopwords.words('english'))\n",
        "text=\"the rain in spain falls mainly on the plain\"\n",
        "print(stop_words)\n",
        "from nltk.tokenize import word_tokenize, sent_tokenize\n",
        "tokenize_words=word_tokenize(text)\n",
        "print(tokenize_words)\n",
        "without_stop_words=[]\n",
        "for word in tokenize_words:\n",
        "  if word not in stop_words:\n",
        "    without_stop_words.append(word)\n",
        "print(without_stop_words)"
      ],
      "metadata": {
        "colab": {
          "base_uri": "https://localhost:8080/"
        },
        "id": "61IbGUFBKuEB",
        "outputId": "18ca9507-8479-4c52-f9b1-78fac3379a88"
      },
      "execution_count": null,
      "outputs": [
        {
          "output_type": "stream",
          "name": "stderr",
          "text": [
            "[nltk_data] Downloading package stopwords to /root/nltk_data...\n",
            "[nltk_data]   Package stopwords is already up-to-date!\n",
            "[nltk_data] Downloading package punkt to /root/nltk_data...\n",
            "[nltk_data]   Unzipping tokenizers/punkt.zip.\n"
          ]
        },
        {
          "output_type": "stream",
          "name": "stdout",
          "text": [
            "{'myself', 'under', 'such', 'down', 'herself', 'y', 'mightn', \"wasn't\", 'yours', 'he', 'should', \"shouldn't\", 'weren', 'then', 'and', \"mightn't\", 'no', \"hasn't\", 'after', 'shan', 'as', 'all', 'which', 't', 'those', 'does', 'nor', 'theirs', 'been', 'an', 'during', 've', 'why', 'wasn', 'that', 'over', 'ain', 'do', 'into', 'or', 'on', 'm', 'she', 'by', 'below', 'some', \"mustn't\", 'because', 'was', 'once', \"won't\", 'of', 'for', 'having', 'ourselves', 'itself', 'other', \"shan't\", 'a', 'not', \"couldn't\", 'this', 'again', 'from', 'are', \"needn't\", 'our', 'is', 'until', 'won', 'to', \"aren't\", \"should've\", 'through', 'too', 'isn', 'with', 'couldn', 'off', \"she's\", 'both', 're', \"doesn't\", \"you'll\", 'needn', 'ours', 'being', 'themselves', 'hers', 'doing', 'out', 'wouldn', 'can', \"you've\", 'yourselves', 'don', 'them', 'my', 'we', 'same', 'did', 'it', 'in', 'before', 'further', 'haven', 'him', 'where', 'yourself', 'the', 'only', \"hadn't\", 'doesn', 'its', 'what', 'above', 'has', 'few', \"you're\", 'when', 'there', 'how', 'mustn', 'so', 'at', 'but', 'just', 'have', \"it's\", 'own', 's', 'am', 'your', 'very', 'her', \"haven't\", 'up', \"wouldn't\", 'shouldn', \"that'll\", 'himself', \"you'd\", \"weren't\", 'will', 'than', 'me', 'if', 'who', \"didn't\", 'ma', 'here', 'they', 'you', 'd', 'about', 'while', 'more', 'between', 'their', 'most', 'were', 'now', 'any', 'i', 'whom', 'didn', 'his', 'hasn', 'against', 'o', 'each', \"isn't\", 'll', 'hadn', 'had', 'aren', 'be', \"don't\", 'these'}\n",
            "['the', 'rain', 'in', 'spain', 'falls', 'mainly', 'on', 'the', 'plain']\n",
            "['rain', 'spain', 'falls', 'mainly', 'plain']\n"
          ]
        }
      ]
    }
  ]
}