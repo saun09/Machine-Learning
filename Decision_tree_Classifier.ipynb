{
  "nbformat": 4,
  "nbformat_minor": 0,
  "metadata": {
    "colab": {
      "provenance": [],
      "authorship_tag": "ABX9TyMOL1Q7RS4zpfZXNl/YLIYU",
      "include_colab_link": true
    },
    "kernelspec": {
      "name": "python3",
      "display_name": "Python 3"
    },
    "language_info": {
      "name": "python"
    }
  },
  "cells": [
    {
      "cell_type": "markdown",
      "metadata": {
        "id": "view-in-github",
        "colab_type": "text"
      },
      "source": [
        "<a href=\"https://colab.research.google.com/github/saun09/Machine-Learning/blob/main/Decision_tree_Classifier.ipynb\" target=\"_parent\"><img src=\"https://colab.research.google.com/assets/colab-badge.svg\" alt=\"Open In Colab\"/></a>"
      ]
    },
    {
      "cell_type": "code",
      "execution_count": 8,
      "metadata": {
        "id": "nTxdTiT3hgW7"
      },
      "outputs": [],
      "source": [
        "#creating a sample data set\n",
        "training_data=[\n",
        "    ['Green', 3, 'Mango'],\n",
        "    ['Yellow',3,'Mango'],\n",
        "    ['Red', 1, 'Grape'],\n",
        "    ['Red', 1, 'Grape'],\n",
        "    ['Yellow',3,'Grape'],\n",
        "]\n",
        "header=[\"color\", \"diameter\", \"label\"]"
      ]
    },
    {
      "cell_type": "code",
      "source": [
        "def unique_vals(rows,cols):\n",
        "  return set([row[col]for row in rows])\n"
      ],
      "metadata": {
        "id": "y25OAh6W2jzC"
      },
      "execution_count": 11,
      "outputs": []
    },
    {
      "cell_type": "code",
      "source": [
        "def class_counts(rows):\n",
        "  counts={}\n",
        "  for row in rows:\n",
        "    label=row[-1]\n",
        "    if label not in counts:\n",
        "      counts[label]=0\n",
        "    counts [label]+=1\n",
        "  return counts"
      ],
      "metadata": {
        "id": "WC7EHHFH3QaB"
      },
      "execution_count": 39,
      "outputs": []
    },
    {
      "cell_type": "code",
      "source": [
        "def is_numeric(value):\n",
        "  return isinstance(value, int) or isinstance(value,float)\n",
        ""
      ],
      "metadata": {
        "id": "ze8GfSLy336b"
      },
      "execution_count": 15,
      "outputs": []
    },
    {
      "cell_type": "code",
      "source": [
        "class Question:\n",
        "\n",
        "\n",
        "  def __init__(self, column, value):\n",
        "    self.column=column\n",
        "    self.value=value\n",
        "  def match(self, example):\n",
        "    val=example[self.column]\n",
        "    if is_numeric(val):\n",
        "      return val\n",
        "    else:\n",
        "      return val==self.value"
      ],
      "metadata": {
        "id": "uDwwbafX5SQP"
      },
      "execution_count": 78,
      "outputs": []
    },
    {
      "cell_type": "code",
      "source": [
        "def __repr__(self):\n",
        "  condition= \"==\"\n",
        "  if is_numeric(self.value):\n",
        "      condition=\">=\"\n",
        "  return \"Is %s %s %s ?\" %(header(self.column), condition, (self.value))"
      ],
      "metadata": {
        "id": "RsAQcTWy5rwN"
      },
      "execution_count": 77,
      "outputs": []
    },
    {
      "cell_type": "code",
      "source": [
        "def partition(rows,question):\n",
        "  #this function creates a partition of the dataset. checking if row in dataset matches the question.\n",
        "  #example: question('1', \"Green\") : then all rows containing green go to true rows and\n",
        "    true_rows, false_rows=[],[]\n",
        "    for row in rows:\n",
        "      if question.match(row):\n",
        "       true_rows.append(row)\n",
        "      else :\n",
        "       false_rows.append(row)\n",
        "    return true_rows, false_rows"
      ],
      "metadata": {
        "id": "637-h5hd6zGN"
      },
      "execution_count": 79,
      "outputs": []
    },
    {
      "cell_type": "code",
      "source": [],
      "metadata": {
        "id": "qTMCV-8z8aSk"
      },
      "execution_count": 21,
      "outputs": []
    },
    {
      "cell_type": "code",
      "source": [
        "def gini(rows):\n",
        "  counts=class_counts(rows)\n",
        "  impurity=1\n",
        "  for lbl in counts:\n",
        "    prob_of_lbl=counts[lbl]/float(len(rows))\n",
        "    impurity-=prob_of_lbl**2\n",
        "  return impurity"
      ],
      "metadata": {
        "id": "punJKKk4-IZj"
      },
      "execution_count": 22,
      "outputs": []
    },
    {
      "cell_type": "code",
      "source": [
        "def info_gain(left, right, current_uncertainity):\n",
        "  p=float(len(left))/(len(left)+len(right))\n",
        "  return current_uncertainity-p*gini(left)-(1-p)*gini(right)"
      ],
      "metadata": {
        "id": "emRENxTt_MTu"
      },
      "execution_count": 23,
      "outputs": []
    },
    {
      "cell_type": "code",
      "source": [
        "def find_best_split(rows):\n",
        "  #find best split by calculating info gain of all rows\n",
        "  best_gain=0\n",
        "  best_question=None\n",
        "  current_uncertainity=gini(rows)\n",
        "  n_features=len(rows[0])-1\n",
        "  for col in range(n_features):\n",
        "    values=set([row[col] for row in rows])\n",
        "    for val in values:\n",
        "      question=Question(col,val)\n",
        "      true_rows, false_rows=partition(rows, question)\n",
        "      if len(true_rows)==0 or len(false_rows)==0:\n",
        "        continue\n",
        "      gain=info_gain(true_rows, false_rows, current_uncertainity)\n",
        "      if gain>=best_gain:\n",
        "        best_gain, best_question==gain,question\n",
        "  return best_gain, best_question\n",
        ""
      ],
      "metadata": {
        "id": "nJ2CEk2R_43q"
      },
      "execution_count": 52,
      "outputs": []
    },
    {
      "cell_type": "code",
      "source": [
        "class Leaf:\n",
        "  def __init__(self,rows):\n",
        "    self.predictions=class_counts(rows)\n",
        "class Decision_Node:\n",
        "  def _init_(self, question, true_branch, false_branch):\n",
        "    self.question=question\n",
        "    self.true_branch=true_branch\n",
        "    self.false_branch=false_branch\n"
      ],
      "metadata": {
        "id": "OROzukXwGFQw"
      },
      "execution_count": 81,
      "outputs": []
    },
    {
      "cell_type": "code",
      "source": [
        "def build_tree(rows):\n",
        "  gain,question=find_best_split(rows)\n",
        "  if gain==0:\n",
        "    return Leaf(rows)\n",
        "\n",
        "  true_rows,false_rows=partition(row,question)\n",
        "  true_branch=build_tree(true_rows)\n",
        "  false_branch=build_tree(false_rows)\n",
        "  return Decision_Node(question,true_branch, false_branch)"
      ],
      "metadata": {
        "id": "As-aDTtDGjom"
      },
      "execution_count": 82,
      "outputs": []
    },
    {
      "cell_type": "code",
      "source": [
        "def print_tree(node,spacing=\" \"):\n",
        "  if isinstance(node,Leaf):\n",
        "    print(spacing+\"predict\", node.predictions)\n",
        "    return\n",
        "  print (spacing+str(node.question))\n",
        "  print (spacing+'-->True:')\n",
        "  print_tree(node.true_branch, spacing+ \" \")\n",
        "  print (spacing+'-->False:')\n",
        "\n"
      ],
      "metadata": {
        "id": "LEEexfjtG7eG"
      },
      "execution_count": 89,
      "outputs": []
    },
    {
      "cell_type": "code",
      "source": [
        "def classify(row,node):\n",
        "  if isinstance(node,Leaf):\n",
        "    return node.predictions\n",
        "  if node.question.match(row):\n",
        "    return classify(row, node.true_branch)\n",
        "  else:\n",
        "    return classify(row,node.false_branch)"
      ],
      "metadata": {
        "id": "qWJoJY3uHXjS"
      },
      "execution_count": 86,
      "outputs": []
    },
    {
      "cell_type": "code",
      "source": [
        "def print_leaf(counts):\n",
        "  total=sum(counts.values())*1.0\n",
        "  probs={}\n",
        "  for lbl in counts.keys():\n",
        "    probs[lbl]=str(int(counts[lbl]/total*100))+ \"%\"\n",
        "  return probs"
      ],
      "metadata": {
        "id": "VhWnioIIHwSW"
      },
      "execution_count": 93,
      "outputs": []
    },
    {
      "cell_type": "code",
      "source": [
        "if __name__=='__main__':\n",
        "  my_tree=build_tree(training_data)\n",
        "  print_tree(my_tree)\n",
        "\n",
        "  training_data=[\n",
        "    ['Green', 3, 'Mango'],\n",
        "    ['Yellow',3,'Mango'],\n",
        "    ['Red', 1, 'Grape'],\n",
        "    ['Red', 1, 'Grape'],\n",
        "    ['Yellow',3,'Grape'],\n",
        "]\n",
        "for row in training_data:\n",
        "  print(\"Actual: %s. Predicted : %s\" %(row[-1], print_leaf(classify(row,my_tree))))"
      ],
      "metadata": {
        "colab": {
          "base_uri": "https://localhost:8080/"
        },
        "id": "0scdmmNBIHVI",
        "outputId": "140ed394-6efe-439b-95a4-3a57f12c86c6"
      },
      "execution_count": 94,
      "outputs": [
        {
          "output_type": "stream",
          "name": "stdout",
          "text": [
            " predict {'Mango': 2, 'Grape': 3}\n",
            "Actual: Mango. Predicted : {'Mango': '40%', 'Grape': '60%'}\n",
            "Actual: Mango. Predicted : {'Mango': '40%', 'Grape': '60%'}\n",
            "Actual: Grape. Predicted : {'Mango': '40%', 'Grape': '60%'}\n",
            "Actual: Grape. Predicted : {'Mango': '40%', 'Grape': '60%'}\n",
            "Actual: Grape. Predicted : {'Mango': '40%', 'Grape': '60%'}\n"
          ]
        }
      ]
    }
  ]
}